{
 "cells": [
  {
   "cell_type": "markdown",
   "metadata": {
    "id": "NKx9Ay3m2Odq"
   },
   "source": [
    "# Downloading the dataset"
   ]
  },
  {
   "cell_type": "code",
   "execution_count": 1,
   "metadata": {},
   "outputs": [],
   "source": [
    "# pip install torch\n",
    "# pip install torchvision"
   ]
  },
  {
   "cell_type": "code",
   "execution_count": 2,
   "metadata": {},
   "outputs": [],
   "source": [
    "# !pip install wget"
   ]
  },
  {
   "cell_type": "code",
   "execution_count": 3,
   "metadata": {
    "colab": {
     "base_uri": "https://localhost:8080/"
    },
    "id": "0wOPFp8-_k8c",
    "outputId": "27d66150-03c7-4c4b-8e0e-c5a98e97b37d",
    "scrolled": true
   },
   "outputs": [],
   "source": [
    "# !wget https://data.vision.ee.ethz.ch/cvl/rrothe/imdb-wiki/static/wiki_crop.tar\n",
    "# !tar -xf wiki_crop.tar"
   ]
  },
  {
   "cell_type": "code",
   "execution_count": 4,
   "metadata": {
    "id": "qeU_6DdsuvKa"
   },
   "outputs": [],
   "source": [
    "import math\n",
    "import os\n",
    "import time\n",
    "from datetime import datetime\n",
    "from pathlib import Path\n",
    "from glob import glob\n",
    "\n",
    "import pickle as pkl\n",
    "import matplotlib.pyplot as plt\n",
    "import numpy as np\n",
    "from scipy.io import loadmat\n",
    "from PIL import Image\n",
    "\n",
    "import torch\n",
    "from torch.utils.data import Dataset, DataLoader\n",
    "from torchvision import datasets, transforms, utils\n",
    "from PIL import Image\n",
    "import numpy as np\n",
    "\n",
    "%matplotlib inline\n",
    "import warnings\n",
    "warnings.filterwarnings('ignore')\n",
    "\n",
    "%matplotlib inline"
   ]
  },
  {
   "cell_type": "markdown",
   "metadata": {
    "id": "OXdydrBGGDRH"
   },
   "source": [
    "# Prepare Data"
   ]
  },
  {
   "cell_type": "code",
   "execution_count": 5,
   "metadata": {
    "id": "2NEp6vcEZjhS"
   },
   "outputs": [],
   "source": [
    "def load_data(dataset='wiki', data_dir='./wiki_crop'):\n",
    "\n",
    "    meta_path = Path(data_dir) / f'{dataset}.mat'\n",
    "    meta = loadmat(meta_path)\n",
    "    meta_data = meta[dataset][0, 0]\n",
    "\n",
    "    full_path = meta_data['full_path'][0]\n",
    "    full_path = [y for x in full_path for y in x]\n",
    "\n",
    "    dob = meta_data['dob'][0]\n",
    "\n",
    "    photo_taken = meta_data['photo_taken'][0]\n",
    "\n",
    "    age = [calc_age(photo_taken[i], dob[i]) for i in range(len(dob))]\n",
    "    \n",
    "    clean_mapping = {pth:age for (pth, age) in zip(full_path, age) if age > 0}\n",
    "    \n",
    "    full_path = list(clean_mapping.keys())\n",
    "    age = list(clean_mapping.values())\n",
    "\n",
    "    return full_path, age"
   ]
  },
  {
   "cell_type": "code",
   "execution_count": 6,
   "metadata": {
    "id": "KYEcMKo1TpUh"
   },
   "outputs": [],
   "source": [
    "def calc_age(taken, dob):\n",
    "\n",
    "    birth = datetime.fromordinal(max(int(dob) - 366, 1))\n",
    "\n",
    "    if birth.month < 7:\n",
    "        return taken - birth.year\n",
    "    else:\n",
    "        return taken - birth.year - 1"
   ]
  },
  {
   "cell_type": "code",
   "execution_count": 7,
   "metadata": {
    "id": "wZ4JPgJTSr7h"
   },
   "outputs": [],
   "source": [
    "def scale(x, feature_range=(-1, 1)):\n",
    "    \n",
    "    min, max = feature_range\n",
    "    x = x * (max - min) + min\n",
    "    return x"
   ]
  },
  {
   "cell_type": "code",
   "execution_count": 8,
   "metadata": {
    "id": "tCOceOxSZ4Vr"
   },
   "outputs": [],
   "source": [
    "bins = [18, 29, 39, 49, 59]\n",
    "def one_hot(x, bins):\n",
    "    \n",
    "    x = x.numpy()\n",
    "    idxs = np.digitize(x, bins, right=True)\n",
    "    idxs = idxs.reshape(-1,1)\n",
    "    z = torch.zeros(len(x), len(bins)+1).scatter_(1, torch.tensor(idxs), 1)\n",
    "    return z"
   ]
  },
  {
   "cell_type": "markdown",
   "metadata": {
    "id": "AA3GehgpZ8U1"
   },
   "source": [
    "# Data Loader"
   ]
  },
  {
   "cell_type": "code",
   "execution_count": 9,
   "metadata": {
    "id": "q_l6WZxaZ5h3"
   },
   "outputs": [],
   "source": [
    "class ImageAgeDataset(Dataset):\n",
    "\n",
    "    def __init__(self, dataset, data_dir, transform=None):\n",
    "        \n",
    "        self.data_dir = data_dir\n",
    "        self.full_path, self.age = load_data(dataset, data_dir)\n",
    "        self.transform = transform\n",
    "    \n",
    "    def __len__(self):\n",
    "        return len(self.age)\n",
    "    \n",
    "    def __getitem__(self, idx):\n",
    "        image = Image.open(os.path.join(self.data_dir, self.full_path[idx]))\n",
    "        age = self.age[idx]\n",
    "        sample = {'image': image, 'age': age}\n",
    "        if self.transform:\n",
    "            sample = self.transform(sample)\n",
    "        return sample"
   ]
  },
  {
   "cell_type": "code",
   "execution_count": 10,
   "metadata": {
    "id": "6fcCFgFSaByO"
   },
   "outputs": [],
   "source": [
    "class Resize(object):\n",
    "    \n",
    "    def __init__(self, output_size):\n",
    "        assert isinstance(output_size, (int, tuple))\n",
    "        self.output_size = output_size\n",
    "        \n",
    "    def __call__(self, sample):\n",
    "        image, age = sample['image'], sample['age']\n",
    "        image = transforms.Resize(self.output_size)(image)\n",
    "        return {'image': image, 'age': age}\n",
    "\n",
    "class ToTensor(object):\n",
    "\n",
    "    def __call__(self, sample):\n",
    "        image, age = sample['image'], sample['age']\n",
    "        image = transforms.ToTensor()(image)\n",
    "        if image.size()[0] == 1:\n",
    "            image = image.expand(3,-1,-1)\n",
    "        return {'image': image, 'age': age}"
   ]
  },
  {
   "cell_type": "code",
   "execution_count": 11,
   "metadata": {
    "id": "nxZr94rCDj1g"
   },
   "outputs": [],
   "source": [
    "dataset='wiki'\n",
    "data_dir='./wiki_crop'\n",
    "bins = [18, 29, 39, 49, 59]\n",
    "img_size = 64\n",
    "batch_size = 128\n",
    "\n",
    "tfms = transforms.Compose([Resize((img_size, img_size)),\n",
    "                           ToTensor()])\n",
    "\n",
    "train_dataset = ImageAgeDataset(dataset, data_dir, transform=tfms)\n",
    "\n",
    "train_loader = DataLoader(dataset=train_dataset, batch_size=batch_size)"
   ]
  },
  {
   "cell_type": "code",
   "execution_count": 12,
   "metadata": {
    "id": "eYLNycoYd8ON"
   },
   "outputs": [],
   "source": [
    "trainiter = iter(train_loader)\n",
    "train = next(trainiter)"
   ]
  },
  {
   "cell_type": "code",
   "execution_count": 13,
   "metadata": {},
   "outputs": [],
   "source": [
    "# # Get the image from the dataset\n",
    "# image1 = train_dataset[0]['image'].numpy()\n",
    "\n",
    "# # Convert the numpy array to PIL image\n",
    "# image_pil = Image.fromarray(np.uint8(image1.transpose((1, 2, 0)) * 255))\n",
    "\n",
    "# # Display the image\n",
    "# image_pil.show()"
   ]
  },
  {
   "cell_type": "code",
   "execution_count": 14,
   "metadata": {},
   "outputs": [],
   "source": [
    "# # Get the image from the dataset\n",
    "# image2 = train_dataset[60941]['image'].numpy()\n",
    "\n",
    "# # Convert the numpy array to PIL image\n",
    "# image_pil = Image.fromarray(np.uint8(image2.transpose((1, 2, 0)) * 255))\n",
    "\n",
    "# # Display the image\n",
    "# image_pil.show()"
   ]
  },
  {
   "cell_type": "code",
   "execution_count": 15,
   "metadata": {
    "colab": {
     "base_uri": "https://localhost:8080/",
     "height": 286
    },
    "id": "pblP2iGPeCnq",
    "outputId": "70926831-fdd5-4d56-982b-c94d88cabd0e"
   },
   "outputs": [
    {
     "data": {
      "text/plain": [
       "<matplotlib.image.AxesImage at 0x1d6db39e340>"
      ]
     },
     "execution_count": 15,
     "metadata": {},
     "output_type": "execute_result"
    },
    {
     "data": {
      "image/png": "[encoded data removed]",
      "text/plain": [
       "<Figure size 640x480 with 1 Axes>"
      ]
     },
     "metadata": {},
     "output_type": "display_data"
    }
   ],
   "source": [
    "plt.imshow(train_dataset[0]['image'].numpy().transpose(1,2,0))"
   ]
  },
  {
   "cell_type": "code",
   "execution_count": 16,
   "metadata": {
    "colab": {
     "base_uri": "https://localhost:8080/",
     "height": 286
    },
    "id": "5nZCoiYYaxVG",
    "outputId": "3f22a765-251a-43b4-e879-518a806d5591"
   },
   "outputs": [
    {
     "data": {
      "text/plain": [
       "<matplotlib.image.AxesImage at 0x1d6d8f2c100>"
      ]
     },
     "execution_count": 16,
     "metadata": {},
     "output_type": "execute_result"
    },
    {
     "data": {
      "image/png": "[encoded data removed]",
      "text/plain": [
       "<Figure size 640x480 with 1 Axes>"
      ]
     },
     "metadata": {},
     "output_type": "display_data"
    }
   ],
   "source": [
    "plt.imshow(train_dataset[60941]['image'].numpy().transpose(1,2,0))"
   ]
  },
  {
   "cell_type": "code",
   "execution_count": 17,
   "metadata": {},
   "outputs": [],
   "source": [
    "from PIL import Image , ImageDraw\n",
    "\n",
    "# dataiter = iter(train_loader)\n",
    "# data = next(dataiter)\n",
    "# images, labels = data['image'], data['age']\n",
    "\n",
    "# fig = Image.new('RGB', (2500, 400))\n",
    "\n",
    "# plot_size=20\n",
    "# width = 125\n",
    "# height = 200\n",
    "\n",
    "# for idx in np.arange(plot_size):\n",
    "#     img = np.transpose(images[idx], (1, 2, 0))\n",
    "#     pil_img = Image.fromarray(np.uint8(img*255))\n",
    "#     pil_img = pil_img.resize((width, height), Image.ANTIALIAS)\n",
    "#     fig.paste(pil_img, (idx*width, 0))\n",
    "#     draw = ImageDraw.Draw(fig)\n",
    "#     draw.text((idx*width+10, height+10), str(labels[idx].item()), fill='black')\n",
    "\n",
    "# fig.show()\n"
   ]
  },
  {
   "cell_type": "code",
   "execution_count": 18,
   "metadata": {
    "colab": {
     "base_uri": "https://localhost:8080/",
     "height": 198
    },
    "id": "dE2zB4_Vc5wW",
    "outputId": "f41dde26-dcac-4af5-de1c-9df1cc7645a3"
   },
   "outputs": [],
   "source": [
    "# dataiter = iter(train_loader)\n",
    "# data = next(dataiter)\n",
    "# images, labels = data['image'], data['age']\n",
    "\n",
    "# fig = plt.figure(figsize=(25, 4))\n",
    "# plot_size=20\n",
    "# for idx in np.arange(plot_size):\n",
    "#     ax = fig.add_subplot(2, plot_size//2, idx+1, xticks=[], yticks=[])\n",
    "#     ax.imshow(np.transpose(images[idx], (1, 2, 0)))\n",
    "#     ax.set_title(str(labels[idx].item()))"
   ]
  },
  {
   "cell_type": "markdown",
   "metadata": {
    "id": "Xtz8TiR0HW8a"
   },
   "source": [
    "# Define Models"
   ]
  },
  {
   "cell_type": "markdown",
   "metadata": {
    "id": "5tjfSolfHf9n"
   },
   "source": [
    "## Discriminator"
   ]
  },
  {
   "cell_type": "code",
   "execution_count": 19,
   "metadata": {
    "id": "yGR-ofHuEFf4"
   },
   "outputs": [],
   "source": [
    "import torch.nn as nn\n",
    "import torch.nn.functional as F"
   ]
  },
  {
   "cell_type": "code",
   "execution_count": 20,
   "metadata": {
    "id": "G8vdR9BDFP0C"
   },
   "outputs": [],
   "source": [
    "def conv(in_channels, out_channels, kernel_size=4, stride=2, padding=1, batch_norm=True):\n",
    "    layers = []\n",
    "    conv_layer = nn.Conv2d(in_channels, out_channels, kernel_size, stride, padding, bias=False)\n",
    "    layers.append(conv_layer)\n",
    "    \n",
    "    if batch_norm:\n",
    "        bn = nn.BatchNorm2d(out_channels)\n",
    "        layers.append(bn)\n",
    "        \n",
    "    return nn.Sequential(*layers)"
   ]
  },
  {
   "cell_type": "code",
   "execution_count": 21,
   "metadata": {},
   "outputs": [],
   "source": [
    "# class Discriminator(nn.Module):\n",
    "#     def __init__(self, y_size, conv_dim=128):\n",
    "#         super(Discriminator, self).__init__()\n",
    "        \n",
    "#         self.conv_dim = conv_dim\n",
    "        \n",
    "#         # Convolutional layers\n",
    "#         self.conv1 = nn.Conv2d(3, conv_dim, 4, 2, 1)\n",
    "#         self.conv2 = nn.Conv2d(conv_dim, conv_dim*2, 4, 2, 1)\n",
    "#         self.conv3 = nn.Conv2d(conv_dim*2, conv_dim*4, 4, 2, 1)\n",
    "#         self.conv4 = nn.Conv2d(conv_dim*4, conv_dim*8, 4, 2, 1)\n",
    "#         self.conv5 = nn.Conv2d(conv_dim*8 + y_size, 1, 4, 1, 0)\n",
    "        \n",
    "#     def forward(self, x, y):\n",
    "#         x = nn.LeakyReLU(0.2)(self.conv1(x))\n",
    "#         x = nn.LeakyReLU(0.2)(self.conv2(x))\n",
    "#         x = nn.LeakyReLU(0.2)(self.conv3(x))\n",
    "#         x = nn.LeakyReLU(0.2)(self.conv4(x))\n",
    "        \n",
    "#         # Concatenate the condition y to the features\n",
    "#         y = y.view(-1, y.size()[-1], 1, 1)\n",
    "#         y = y.expand(-1, -1, x.size(2), x.size(3))\n",
    "#         x = torch.cat([x, y], dim=1)\n",
    "        \n",
    "#         x = self.conv5(x)\n",
    "        \n",
    "#         return x\n"
   ]
  },
  {
   "cell_type": "code",
   "execution_count": 22,
   "metadata": {
    "id": "3Gl3qi7eIgxG"
   },
   "outputs": [],
   "source": [
    "class Discriminator(nn.Module):\n",
    "    \n",
    "    def __init__(self, y_size, conv_dim=64):\n",
    "\n",
    "        super(Discriminator, self).__init__()\n",
    "        self.conv_dim = conv_dim\n",
    "        self.y_size = y_size\n",
    "        self.conv1 = conv(3, conv_dim, 4, batch_norm=False)\n",
    "        self.conv2 = conv(conv_dim+y_size, conv_dim * 2, 4)\n",
    "        self.conv3 = conv(conv_dim*2, conv_dim*4, 4)\n",
    "        self.conv4 = conv(conv_dim*4, conv_dim*8, 4)\n",
    "        self.conv5 = conv(conv_dim*8, 1, 4, 1, 0, batch_norm=False)\n",
    "            \n",
    "    def forward(self, x, y):\n",
    "\n",
    "        x = F.relu(self.conv1(x))\n",
    "        y = y.view(-1,y.size()[-1],1,1)\n",
    "        y = y.expand(-1,-1,x.size()[-2], x.size()[-1])\n",
    "        x = torch.cat([x, y], 1)\n",
    "        x = F.relu(self.conv2(x))\n",
    "        x = F.relu(self.conv3(x))\n",
    "        x = F.relu(self.conv4(x))\n",
    "        x = self.conv5(x)\n",
    "        \n",
    "        return x"
   ]
  },
  {
   "cell_type": "markdown",
   "metadata": {
    "id": "g0Q3nuJOHz1o"
   },
   "source": [
    "## Generator"
   ]
  },
  {
   "cell_type": "code",
   "execution_count": 23,
   "metadata": {
    "id": "BXL4DQo5IvJm"
   },
   "outputs": [],
   "source": [
    "def deconv(in_channels, out_channels, kernel_size=4, stride=2, padding=1, batch_norm=True):\n",
    "    \n",
    "    layers = []\n",
    "    t_conv = nn.ConvTranspose2d(in_channels, out_channels, kernel_size, stride, padding, bias=False)\n",
    "    layers.append(t_conv)\n",
    "    \n",
    "    if batch_norm:\n",
    "        layers.append(nn.BatchNorm2d(out_channels))\n",
    "        \n",
    "    return nn.Sequential(*layers)"
   ]
  },
  {
   "cell_type": "code",
   "execution_count": 24,
   "metadata": {
    "id": "gg_8hGGg9KJL"
   },
   "outputs": [],
   "source": [
    "class Generator(nn.Module):\n",
    "    \n",
    "    def __init__(self, z_size, y_size, conv_dim=64):\n",
    "\n",
    "        super(Generator, self).__init__()\n",
    "        \n",
    "        self.conv_dim = conv_dim\n",
    "        \n",
    "        self.t_conv1 = deconv(z_size+y_size, conv_dim*8, 4, 1, 0)\n",
    "        self.t_conv2 = deconv(conv_dim*8, conv_dim*4, 4)\n",
    "        self.t_conv3 = deconv(conv_dim*4, conv_dim*2, 4)\n",
    "        self.t_conv4 = deconv(conv_dim*2, conv_dim, 4)\n",
    "        self.t_conv5 = deconv(conv_dim, 3, 4, batch_norm=False)\n",
    "        \n",
    "    def forward(self, z, y):\n",
    "\n",
    "        x = torch.cat([z, y], dim=1)\n",
    "        x = x.view(-1, x.size()[-1], 1, 1)\n",
    "        x = F.relu(self.t_conv1(x))\n",
    "        x = F.relu(self.t_conv2(x))\n",
    "        x = F.relu(self.t_conv3(x))\n",
    "        x = F.relu(self.t_conv4(x))\n",
    "        x = self.t_conv5(x)\n",
    "        x = torch.tanh(x)\n",
    "        \n",
    "        return x"
   ]
  },
  {
   "cell_type": "code",
   "execution_count": 25,
   "metadata": {},
   "outputs": [],
   "source": [
    "# class Generator(nn.Module):\n",
    "#     def __init__(self, z_size, y_size, conv_dim=128):\n",
    "#         super(Generator, self).__init__()\n",
    "        \n",
    "#         self.conv_dim = conv_dim\n",
    "        \n",
    "#         # Transposed convolutional layers\n",
    "#         self.t_conv1 = nn.ConvTranspose2d(z_size + y_size, conv_dim*8, 4, 1, 0)\n",
    "#         self.t_conv2 = nn.ConvTranspose2d(conv_dim*8, conv_dim*4, 4, 2, 1)\n",
    "#         self.t_conv3 = nn.ConvTranspose2d(conv_dim*4, conv_dim*2, 4, 2, 1)\n",
    "#         self.t_conv4 = nn.ConvTranspose2d(conv_dim*2, conv_dim, 4, 2, 1)\n",
    "#         self.t_conv5 = nn.ConvTranspose2d(conv_dim, 3, 4, 2, 1)\n",
    "        \n",
    "#     def forward(self, z, y):\n",
    "#         x = torch.cat([z, y], dim=1)\n",
    "#         x = x.view(-1, x.size()[-1], 1, 1)\n",
    "        \n",
    "#         x = nn.ReLU()(self.t_conv1(x))\n",
    "#         x = nn.ReLU()(self.t_conv2(x))\n",
    "#         x = nn.ReLU()(self.t_conv3(x))\n",
    "#         x = nn.ReLU()(self.t_conv4(x))\n",
    "#         x = torch.tanh(self.t_conv5(x))\n",
    "        \n",
    "#         return x"
   ]
  },
  {
   "cell_type": "code",
   "execution_count": 26,
   "metadata": {},
   "outputs": [],
   "source": [
    "# # Generator\n",
    "# class Generator(nn.Module):\n",
    "#     def __init__(self, z_dim, y_dim, image_size, num_channels):\n",
    "#         super(Generator, self).__init__()\n",
    "        \n",
    "#         self.z_dim = z_dim\n",
    "#         self.y_dim = y_dim\n",
    "#         self.image_size = image_size\n",
    "#         self.num_channels = num_channels\n",
    "        \n",
    "#         self.fc = nn.Sequential(\n",
    "#             nn.Linear(z_dim + y_dim, 256 * 8 * 8),\n",
    "#             nn.ReLU()\n",
    "#         )\n",
    "        \n",
    "#         self.deconv_layers = nn.Sequential(\n",
    "#             nn.ConvTranspose2d(256, 128, kernel_size=4, stride=2, padding=1),\n",
    "#             nn.BatchNorm2d(128),\n",
    "#             nn.ReLU(),\n",
    "            \n",
    "#             nn.ConvTranspose2d(128, 64, kernel_size=4, stride=2, padding=1),\n",
    "#             nn.BatchNorm2d(64),\n",
    "#             nn.ReLU(),\n",
    "            \n",
    "#             nn.ConvTranspose2d(64, num_channels, kernel_size=4, stride=2, padding=1),\n",
    "#             nn.Tanh()\n",
    "#         )\n",
    "\n",
    "#     def forward(self, z, y):\n",
    "#         zy = torch.cat([z, y], dim=1)\n",
    "#         x = self.fc(zy)\n",
    "#         x = x.view(x.size(0), 256, 8, 8)\n",
    "#         x = self.deconv_layers(x)\n",
    "#         return x\n",
    "\n",
    "# # Discriminator\n",
    "# class Discriminator(nn.Module):\n",
    "#     def __init__(self, image_size, y_dim, num_channels):\n",
    "#         super(Discriminator, self).__init__()\n",
    "        \n",
    "#         self.image_size = image_size\n",
    "#         self.y_dim = y_dim\n",
    "#         self.num_channels = num_channels\n",
    "        \n",
    "#         self.conv_layers = nn.Sequential(\n",
    "#             nn.Conv2d(num_channels + y_dim, 64, kernel_size=4, stride=2, padding=1),\n",
    "#             nn.LeakyReLU(0.2),\n",
    "            \n",
    "#             nn.Conv2d(64, 128, kernel_size=4, stride=2, padding=1),\n",
    "#             nn.BatchNorm2d(128),\n",
    "#             nn.LeakyReLU(0.2),\n",
    "            \n",
    "#             nn.Conv2d(128, 256, kernel_size=4, stride=2, padding=1),\n",
    "#             nn.BatchNorm2d(256),\n",
    "#             nn.LeakyReLU(0.2)\n",
    "#         )\n",
    "        \n",
    "#         self.fc = nn.Sequential(\n",
    "#             nn.Linear(256 * 8 * 8, 1),\n",
    "#             nn.Sigmoid()\n",
    "#         )\n",
    "\n",
    "#     def forward(self, x, y):\n",
    "#         y = y.view(-1, self.y_dim, 1, 1)\n",
    "#         y = y.expand(-1, -1, self.image_size, self.image_size)\n",
    "#         x = torch.cat([x, y], dim=1)\n",
    "#         x = self.conv_layers(x)\n",
    "#         x = x.view(x.size(0), -1)\n",
    "#         x = self.fc(x)\n",
    "#         return x"
   ]
  },
  {
   "cell_type": "code",
   "execution_count": 27,
   "metadata": {},
   "outputs": [],
   "source": [
    "# import torch\n",
    "# import torch.nn as nn\n",
    "\n",
    "# # Define a Generator with increased capacity\n",
    "# class Generator(nn.Module):\n",
    "#     def __init__(self, z_size, y_size, conv_dim=256):\n",
    "#         super(Generator, self).__init__()\n",
    "#         self.conv_dim = conv_dim\n",
    "#         self.y_size = y_size\n",
    "\n",
    "#         # Fully connected layer\n",
    "#         self.fc = nn.Sequential(\n",
    "#             nn.Linear(z_size + y_size, conv_dim * 8 * 4 * 4),\n",
    "#             nn.ReLU()\n",
    "#         )\n",
    "\n",
    "#         # Transposed convolutional layers\n",
    "#         self.deconv_layers = nn.Sequential(\n",
    "#             nn.ConvTranspose2d(conv_dim * 8, conv_dim * 4, kernel_size=4, stride=2, padding=1),\n",
    "#             nn.BatchNorm2d(conv_dim * 4),\n",
    "#             nn.ReLU(),\n",
    "\n",
    "#             nn.ConvTranspose2d(conv_dim * 4, conv_dim * 2, kernel_size=4, stride=2, padding=1),\n",
    "#             nn.BatchNorm2d(conv_dim * 2),\n",
    "#             nn.ReLU(),\n",
    "\n",
    "#             nn.ConvTranspose2d(conv_dim * 2, conv_dim, kernel_size=4, stride=2, padding=1),\n",
    "#             nn.BatchNorm2d(conv_dim),\n",
    "#             nn.ReLU(),\n",
    "\n",
    "#             nn.ConvTranspose2d(conv_dim, 3, kernel_size=4, stride=2, padding=1),\n",
    "#             nn.Tanh()\n",
    "#         )\n",
    "\n",
    "#     def forward(self, z, y):\n",
    "#         zy = torch.cat([z, y], dim=1)\n",
    "#         x = self.fc(zy)\n",
    "#         x = x.view(x.size(0), self.conv_dim * 8, 4, 4)  # Reshape to match deconv layers\n",
    "#         x = self.deconv_layers(x)\n",
    "#         return x\n",
    "\n",
    "# # Define a Discriminator with increased capacity\n",
    "# class Discriminator(nn.Module):\n",
    "#     def __init__(self, image_size, y_size, conv_dim=256):\n",
    "#         super(Discriminator, self).__init__()\n",
    "#         self.conv_dim = conv_dim\n",
    "#         self.y_size = y_size\n",
    "\n",
    "#         # Convolutional layers\n",
    "#         self.conv_layers = nn.Sequential(\n",
    "#             nn.Conv2d(3 + y_size, conv_dim, kernel_size=4, stride=2, padding=1),\n",
    "#             nn.LeakyReLU(0.2),\n",
    "\n",
    "#             nn.Conv2d(conv_dim, conv_dim * 2, kernel_size=4, stride=2, padding=1),\n",
    "#             nn.BatchNorm2d(conv_dim * 2),\n",
    "#             nn.LeakyReLU(0.2),\n",
    "\n",
    "#             nn.Conv2d(conv_dim * 2, conv_dim * 4, kernel_size=4, stride=2, padding=1),\n",
    "#             nn.BatchNorm2d(conv_dim * 4),\n",
    "#             nn.LeakyReLU(0.2),\n",
    "\n",
    "#             nn.Conv2d(conv_dim * 4, conv_dim * 8, kernel_size=4, stride=2, padding=1),\n",
    "#             nn.BatchNorm2d(conv_dim * 8),\n",
    "#             nn.LeakyReLU(0.2)\n",
    "#         )\n",
    "\n",
    "#         # Fully connected layer\n",
    "#         self.fc = nn.Sequential(\n",
    "#             nn.Linear(conv_dim * 8 * (image_size // 16) * (image_size // 16), 1)\n",
    "#         )\n",
    "\n",
    "#     def forward(self, x, y):\n",
    "#         y = y.view(-1, self.y_size, 1, 1)\n",
    "#         y = y.expand(-1, -1, x.size(2), x.size(3))\n",
    "#         x = torch.cat([x, y], dim=1)\n",
    "#         x = self.conv_layers(x)\n",
    "#         x = x.view(x.size(0), -1)\n",
    "#         x = self.fc(x)\n",
    "#         return x\n"
   ]
  },
  {
   "cell_type": "markdown",
   "metadata": {
    "id": "xGsty3wYIFRq"
   },
   "source": [
    "## Build complete network"
   ]
  },
  {
   "cell_type": "code",
   "execution_count": 28,
   "metadata": {},
   "outputs": [],
   "source": [
    "# # Initialize the generator and discriminator\n",
    "# z_dim = 100\n",
    "# y_dim = 6\n",
    "# image_size = 64\n",
    "# num_channels = 3\n",
    "\n",
    "# G = Generator(z_dim, y_dim, image_size, num_channels)\n",
    "# D = Discriminator(image_size, y_dim, num_channels)\n",
    "\n",
    "# print(D)\n",
    "# print()\n",
    "# print(G)"
   ]
  },
  {
   "cell_type": "code",
   "execution_count": 29,
   "metadata": {
    "colab": {
     "base_uri": "https://localhost:8080/"
    },
    "id": "fMZsaBy79lPw",
    "outputId": "5a13a006-f9ae-4cfa-aa09-fc6fb5357cc7"
   },
   "outputs": [
    {
     "name": "stdout",
     "output_type": "stream",
     "text": [
      "Discriminator(\n",
      "  (conv1): Sequential(\n",
      "    (0): Conv2d(3, 128, kernel_size=(4, 4), stride=(2, 2), padding=(1, 1), bias=False)\n",
      "  )\n",
      "  (conv2): Sequential(\n",
      "    (0): Conv2d(134, 256, kernel_size=(4, 4), stride=(2, 2), padding=(1, 1), bias=False)\n",
      "    (1): BatchNorm2d(256, eps=1e-05, momentum=0.1, affine=True, track_running_stats=True)\n",
      "  )\n",
      "  (conv3): Sequential(\n",
      "    (0): Conv2d(256, 512, kernel_size=(4, 4), stride=(2, 2), padding=(1, 1), bias=False)\n",
      "    (1): BatchNorm2d(512, eps=1e-05, momentum=0.1, affine=True, track_running_stats=True)\n",
      "  )\n",
      "  (conv4): Sequential(\n",
      "    (0): Conv2d(512, 1024, kernel_size=(4, 4), stride=(2, 2), padding=(1, 1), bias=False)\n",
      "    (1): BatchNorm2d(1024, eps=1e-05, momentum=0.1, affine=True, track_running_stats=True)\n",
      "  )\n",
      "  (conv5): Sequential(\n",
      "    (0): Conv2d(1024, 1, kernel_size=(4, 4), stride=(1, 1), bias=False)\n",
      "  )\n",
      ")\n",
      "\n",
      "Generator(\n",
      "  (t_conv1): Sequential(\n",
      "    (0): ConvTranspose2d(106, 1024, kernel_size=(4, 4), stride=(1, 1), bias=False)\n",
      "    (1): BatchNorm2d(1024, eps=1e-05, momentum=0.1, affine=True, track_running_stats=True)\n",
      "  )\n",
      "  (t_conv2): Sequential(\n",
      "    (0): ConvTranspose2d(1024, 512, kernel_size=(4, 4), stride=(2, 2), padding=(1, 1), bias=False)\n",
      "    (1): BatchNorm2d(512, eps=1e-05, momentum=0.1, affine=True, track_running_stats=True)\n",
      "  )\n",
      "  (t_conv3): Sequential(\n",
      "    (0): ConvTranspose2d(512, 256, kernel_size=(4, 4), stride=(2, 2), padding=(1, 1), bias=False)\n",
      "    (1): BatchNorm2d(256, eps=1e-05, momentum=0.1, affine=True, track_running_stats=True)\n",
      "  )\n",
      "  (t_conv4): Sequential(\n",
      "    (0): ConvTranspose2d(256, 128, kernel_size=(4, 4), stride=(2, 2), padding=(1, 1), bias=False)\n",
      "    (1): BatchNorm2d(128, eps=1e-05, momentum=0.1, affine=True, track_running_stats=True)\n",
      "  )\n",
      "  (t_conv5): Sequential(\n",
      "    (0): ConvTranspose2d(128, 3, kernel_size=(4, 4), stride=(2, 2), padding=(1, 1), bias=False)\n",
      "  )\n",
      ")\n"
     ]
    }
   ],
   "source": [
    "conv_dim = 128\n",
    "z_size = 100\n",
    "y_size = 6 \n",
    "\n",
    "D = Discriminator(y_size, conv_dim)\n",
    "G = Generator(z_size, y_size, conv_dim)\n",
    "\n",
    "print(D)\n",
    "print()\n",
    "print(G)"
   ]
  },
  {
   "cell_type": "markdown",
   "metadata": {
    "id": "8oVuUkypIO7S"
   },
   "source": [
    "## Discriminator and Generator Losses"
   ]
  },
  {
   "cell_type": "code",
   "execution_count": 30,
   "metadata": {
    "colab": {
     "base_uri": "https://localhost:8080/"
    },
    "id": "ScKFn1ZB9qbY",
    "outputId": "575e3196-c56f-431b-beae-e81e8721c448"
   },
   "outputs": [
    {
     "data": {
      "text/plain": [
       "device(type='cuda')"
      ]
     },
     "execution_count": 30,
     "metadata": {},
     "output_type": "execute_result"
    }
   ],
   "source": [
    "device = torch.device('cuda' if torch.cuda.is_available() else 'cpu')\n",
    "device"
   ]
  },
  {
   "cell_type": "code",
   "execution_count": 31,
   "metadata": {
    "id": "Q7_sEm4fISzB"
   },
   "outputs": [],
   "source": [
    "def real_loss(D_out, smooth=False):\n",
    "    batch_size = D_out.size(0)\n",
    "    if smooth:\n",
    "        labels = torch.ones(batch_size)*0.9\n",
    "    else:\n",
    "        labels = torch.ones(batch_size)  \n",
    "    labels = labels.to(device)\n",
    "    criterion = nn.BCEWithLogitsLoss()\n",
    "    loss = criterion(D_out.squeeze(), labels)\n",
    "    return loss\n",
    "\n",
    "def fake_loss(D_out):\n",
    "    batch_size = D_out.size(0)\n",
    "    labels = torch.zeros(batch_size)\n",
    "    labels = labels.to(device)\n",
    "    criterion = nn.BCEWithLogitsLoss()\n",
    "    loss = criterion(D_out.squeeze(), labels)\n",
    "    return loss"
   ]
  },
  {
   "cell_type": "markdown",
   "metadata": {
    "id": "hra3ltXxIYH7"
   },
   "source": [
    "## Optimizers"
   ]
  },
  {
   "cell_type": "code",
   "execution_count": 32,
   "metadata": {
    "id": "WFZqaTTsIVfq"
   },
   "outputs": [],
   "source": [
    "import torch.optim as optim\n",
    "\n",
    "lr = 0.0002\n",
    "beta1=0.5\n",
    "beta2=0.999\n",
    "\n",
    "d_optimizer = optim.Adam(D.parameters(), lr, [beta1, beta2])\n",
    "g_optimizer = optim.Adam(G.parameters(), lr, [beta1, beta2])"
   ]
  },
  {
   "cell_type": "markdown",
   "metadata": {
    "id": "t4As0AzGIfWS"
   },
   "source": [
    "## Training"
   ]
  },
  {
   "cell_type": "code",
   "execution_count": 33,
   "metadata": {
    "id": "GdRK5VL9VJFq"
   },
   "outputs": [],
   "source": [
    "def checkpoint(G, D, epoch, model, root_dir):\n",
    "    target_dir = f'{root_dir}/{model}'\n",
    "    os.makedirs(target_dir, exist_ok=True)\n",
    "    G_path = os.path.join(target_dir, f'G_{epoch}.pkl')\n",
    "    D_path = os.path.join(target_dir, f'D_{epoch}.pkl')\n",
    "    torch.save(G.state_dict(), G_path)\n",
    "    torch.save(D.state_dict(), D_path)\n",
    "\n",
    "def oh_to_class(fixed_y):\n",
    "    age_map = {0:'0-18',1:'19-29',2:'30-39',3:'40-49',4:'50-59',5:'60+'}\n",
    "    if torch.cuda.is_available():\n",
    "        fixed_y = fixed_y.cpu()\n",
    "    fixed_y_idxs = fixed_y.numpy().nonzero()[1]\n",
    "    fixed_y_ages = [age_map[idx] for idx in fixed_y_idxs]\n",
    "    \n",
    "    return fixed_y_ages\n",
    "\n",
    "def save_samples_ages(samples, fixed_y, model, root_dir):\n",
    "    fixed_y_ages = oh_to_class(fixed_y)\n",
    "    samples_ages = {'samples': samples, 'ages': fixed_y_ages}\n",
    "    target_dir = f'{root_dir}/{model}'\n",
    "    os.makedirs(target_dir, exist_ok=True)\n",
    "    with open(f'{target_dir}/train_samples_ages.pkl', 'wb') as f:\n",
    "        pkl.dump(samples_ages, f)"
   ]
  },
  {
   "cell_type": "code",
   "execution_count": 34,
   "metadata": {},
   "outputs": [],
   "source": [
    "root_dir = \"D:\\study\\Project\\TARP project\\MissingChildIdentification-main\\MissingChildIdentification-main\\content\\Age-cGAN\""
   ]
  },
  {
   "cell_type": "code",
   "execution_count": null,
   "metadata": {},
   "outputs": [],
   "source": []
  },
  {
   "cell_type": "code",
   "execution_count": 35,
   "metadata": {},
   "outputs": [
    {
     "name": "stdout",
     "output_type": "stream",
     "text": [
      "Epoch [    1/   50] | d_loss: 1.4355 | g_loss: 3.2672\n",
      "Epoch [    1/   50] | d_loss: 1.5043 | g_loss: 1.2311\n",
      "Epoch [    2/   50] | d_loss: 1.0227 | g_loss: 0.9211\n",
      "Epoch [    2/   50] | d_loss: 1.7063 | g_loss: 4.6928\n",
      "Epoch [    3/   50] | d_loss: 0.5703 | g_loss: 2.1789\n",
      "Epoch [    3/   50] | d_loss: 0.3203 | g_loss: 3.7650\n",
      "Epoch [    4/   50] | d_loss: 0.4354 | g_loss: 2.2745\n",
      "Epoch [    4/   50] | d_loss: 0.2567 | g_loss: 2.9555\n",
      "Epoch [    5/   50] | d_loss: 0.3165 | g_loss: 1.9225\n",
      "Epoch [    5/   50] | d_loss: 0.2673 | g_loss: 4.6608\n",
      "Epoch [    6/   50] | d_loss: 0.9255 | g_loss: 7.3792\n",
      "Epoch [    6/   50] | d_loss: 0.3136 | g_loss: 3.8325\n",
      "Epoch [    7/   50] | d_loss: 0.6793 | g_loss: 2.6556\n",
      "Epoch [    7/   50] | d_loss: 0.2302 | g_loss: 3.8434\n",
      "Epoch [    8/   50] | d_loss: 0.2235 | g_loss: 3.6417\n",
      "Epoch [    8/   50] | d_loss: 0.0909 | g_loss: 4.1982\n",
      "Epoch [    9/   50] | d_loss: 0.2393 | g_loss: 2.8023\n",
      "Epoch [    9/   50] | d_loss: 0.1503 | g_loss: 4.7669\n",
      "Epoch [   10/   50] | d_loss: 0.1632 | g_loss: 4.0049\n",
      "Epoch [   10/   50] | d_loss: 0.0877 | g_loss: 4.1592\n",
      "Epoch [   11/   50] | d_loss: 0.9492 | g_loss: 7.9926\n",
      "Epoch [   11/   50] | d_loss: 0.7682 | g_loss: 9.9766\n",
      "Epoch [   12/   50] | d_loss: 0.5610 | g_loss: 5.4106\n",
      "Epoch [   12/   50] | d_loss: 0.0881 | g_loss: 2.2433\n",
      "Epoch [   13/   50] | d_loss: 0.0776 | g_loss: 5.2111\n",
      "Epoch [   13/   50] | d_loss: 0.0631 | g_loss: 4.9925\n",
      "Epoch [   14/   50] | d_loss: 0.1051 | g_loss: 3.4747\n",
      "Epoch [   14/   50] | d_loss: 0.0485 | g_loss: 5.6627\n",
      "Epoch [   15/   50] | d_loss: 0.2560 | g_loss: 6.5534\n",
      "Epoch [   15/   50] | d_loss: 0.0327 | g_loss: 5.1017\n",
      "Epoch [   16/   50] | d_loss: 0.2714 | g_loss: 5.0456\n",
      "Epoch [   16/   50] | d_loss: 0.0291 | g_loss: 4.6495\n",
      "Epoch [   17/   50] | d_loss: 0.4593 | g_loss: 4.6697\n",
      "Epoch [   17/   50] | d_loss: 0.0623 | g_loss: 4.3669\n",
      "Epoch [   18/   50] | d_loss: 0.3424 | g_loss: 3.7293\n",
      "Epoch [   18/   50] | d_loss: 0.0214 | g_loss: 6.2790\n",
      "Epoch [   19/   50] | d_loss: 0.0383 | g_loss: 5.8065\n",
      "Epoch [   19/   50] | d_loss: 0.0588 | g_loss: 4.5163\n",
      "Epoch [   20/   50] | d_loss: 0.2489 | g_loss: 5.9692\n",
      "Epoch [   20/   50] | d_loss: 0.0389 | g_loss: 7.8821\n",
      "Epoch [   21/   50] | d_loss: 0.0832 | g_loss: 4.9635\n",
      "Epoch [   21/   50] | d_loss: 0.0798 | g_loss: 7.3775\n",
      "Epoch [   22/   50] | d_loss: 0.2548 | g_loss: 4.9224\n",
      "Epoch [   22/   50] | d_loss: 0.1242 | g_loss: 5.0810\n",
      "Epoch [   23/   50] | d_loss: 0.1699 | g_loss: 3.7986\n",
      "Epoch [   23/   50] | d_loss: 0.0941 | g_loss: 5.3229\n",
      "Epoch [   24/   50] | d_loss: 0.0794 | g_loss: 6.0551\n",
      "Epoch [   24/   50] | d_loss: 0.0135 | g_loss: 7.3808\n",
      "Epoch [   25/   50] | d_loss: 0.0902 | g_loss: 7.6633\n",
      "Epoch [   25/   50] | d_loss: 0.0126 | g_loss: 4.6520\n",
      "Epoch [   26/   50] | d_loss: 0.0909 | g_loss: 4.6309\n",
      "Epoch [   26/   50] | d_loss: 0.0645 | g_loss: 5.0598\n",
      "Epoch [   27/   50] | d_loss: 0.0903 | g_loss: 4.4801\n",
      "Epoch [   27/   50] | d_loss: 0.0133 | g_loss: 4.3487\n",
      "Epoch [   28/   50] | d_loss: 0.0617 | g_loss: 6.5192\n",
      "Epoch [   28/   50] | d_loss: 0.0605 | g_loss: 6.4245\n",
      "Epoch [   29/   50] | d_loss: 0.0239 | g_loss: 5.4156\n",
      "Epoch [   29/   50] | d_loss: 0.0284 | g_loss: 5.7423\n",
      "Epoch [   30/   50] | d_loss: 0.2236 | g_loss: 5.2847\n",
      "Epoch [   30/   50] | d_loss: 0.0049 | g_loss: 5.7030\n",
      "Epoch [   31/   50] | d_loss: 0.0513 | g_loss: 5.3120\n",
      "Epoch [   31/   50] | d_loss: 0.2718 | g_loss: 8.4398\n",
      "Epoch [   32/   50] | d_loss: 0.1330 | g_loss: 5.4481\n",
      "Epoch [   32/   50] | d_loss: 0.1029 | g_loss: 4.7565\n",
      "Epoch [   33/   50] | d_loss: 0.0743 | g_loss: 4.7509\n",
      "Epoch [   33/   50] | d_loss: 0.0165 | g_loss: 4.5857\n",
      "Epoch [   34/   50] | d_loss: 0.0909 | g_loss: 4.5780\n",
      "Epoch [   34/   50] | d_loss: 0.0236 | g_loss: 5.4216\n",
      "Epoch [   35/   50] | d_loss: 0.0309 | g_loss: 4.2724\n",
      "Epoch [   35/   50] | d_loss: 0.0570 | g_loss: 6.3370\n",
      "Epoch [   36/   50] | d_loss: 0.0206 | g_loss: 6.6951\n",
      "Epoch [   36/   50] | d_loss: 0.0604 | g_loss: 6.0051\n",
      "Epoch [   37/   50] | d_loss: 0.6650 | g_loss: 14.7547\n",
      "Epoch [   37/   50] | d_loss: 0.2390 | g_loss: 6.3797\n",
      "Epoch [   38/   50] | d_loss: 0.3120 | g_loss: 7.5722\n",
      "Epoch [   38/   50] | d_loss: 0.0119 | g_loss: 7.5162\n",
      "Epoch [   39/   50] | d_loss: 0.0336 | g_loss: 6.1510\n",
      "Epoch [   39/   50] | d_loss: 0.0205 | g_loss: 4.8044\n",
      "Epoch [   40/   50] | d_loss: 0.0120 | g_loss: 5.7143\n",
      "Epoch [   40/   50] | d_loss: 0.3490 | g_loss: 11.4508\n",
      "Epoch [   41/   50] | d_loss: 0.8314 | g_loss: 4.3496\n",
      "Epoch [   41/   50] | d_loss: 0.0862 | g_loss: 8.1410\n",
      "Epoch [   42/   50] | d_loss: 0.2037 | g_loss: 9.5323\n",
      "Epoch [   42/   50] | d_loss: 0.0250 | g_loss: 5.8178\n",
      "Epoch [   43/   50] | d_loss: 0.0115 | g_loss: 9.0377\n",
      "Epoch [   43/   50] | d_loss: 0.0298 | g_loss: 6.1734\n",
      "Epoch [   44/   50] | d_loss: 0.4199 | g_loss: 11.0302\n",
      "Epoch [   44/   50] | d_loss: 0.0679 | g_loss: 9.2780\n",
      "Epoch [   45/   50] | d_loss: 0.0046 | g_loss: 5.1514\n",
      "Epoch [   45/   50] | d_loss: 0.0507 | g_loss: 6.8954\n",
      "Epoch [   46/   50] | d_loss: 0.0256 | g_loss: 5.4202\n",
      "Epoch [   46/   50] | d_loss: 0.0090 | g_loss: 5.3029\n",
      "Epoch [   47/   50] | d_loss: 0.0186 | g_loss: 6.8932\n",
      "Epoch [   47/   50] | d_loss: 0.0153 | g_loss: 5.2153\n",
      "Epoch [   48/   50] | d_loss: 2.1813 | g_loss: 0.3385\n",
      "Epoch [   48/   50] | d_loss: 0.3978 | g_loss: 10.6944\n",
      "Epoch [   49/   50] | d_loss: 0.0078 | g_loss: 5.8504\n",
      "Epoch [   49/   50] | d_loss: 0.0412 | g_loss: 7.8173\n",
      "Epoch [   50/   50] | d_loss: 0.1590 | g_loss: 10.5231\n",
      "Epoch [   50/   50] | d_loss: 0.0079 | g_loss: 7.8098\n"
     ]
    }
   ],
   "source": [
    "import os\n",
    "import numpy as np\n",
    "import torch\n",
    "import pickle as pkl\n",
    "\n",
    "model = 'GAN_mod_1'\n",
    "os.makedirs(root_dir, exist_ok=True)\n",
    "\n",
    "G.to(device)\n",
    "D.to(device)\n",
    "\n",
    "num_epochs = 50\n",
    "\n",
    "samples = []\n",
    "losses = []\n",
    "\n",
    "print_every = 300\n",
    "\n",
    "sample_size=16\n",
    "fixed_z = np.random.uniform(-1, 1, size=(sample_size, z_size))\n",
    "fixed_z = torch.from_numpy(fixed_z).float()\n",
    "fixed_y = np.random.randint(len(bins), size=sample_size)\n",
    "fixed_y = fixed_y.reshape(-1,1)\n",
    "fixed_y = torch.zeros(sample_size, len(bins)+1).scatter_(1, torch.tensor(fixed_y, dtype=torch.long), 1)\n",
    "\n",
    "for epoch in range(num_epochs):\n",
    "    \n",
    "    for batch_i, batch in enumerate(train_loader):\n",
    "                \n",
    "        batch_size = batch['image'].size(0)\n",
    "        \n",
    "        real_images = scale(batch['image'])\n",
    "        \n",
    "        ages = one_hot(batch['age'], bins)\n",
    "        \n",
    "        d_optimizer.zero_grad()\n",
    "        \n",
    "        real_images = real_images.to(device)\n",
    "        ages = ages.to(device)\n",
    "        \n",
    "        D_real = D(real_images, ages)\n",
    "        d_real_loss = real_loss(D_real)\n",
    "        \n",
    "        z = np.random.uniform(-1, 1, size=(batch_size, z_size))\n",
    "        z = torch.from_numpy(z).float()\n",
    "        z = z.to(device)\n",
    "        fake_images = G(z, ages)\n",
    "                   \n",
    "        D_fake = D(fake_images, ages)\n",
    "        d_fake_loss = fake_loss(D_fake)\n",
    "        \n",
    "        d_loss = d_real_loss + d_fake_loss\n",
    "        d_loss.backward()\n",
    "        d_optimizer.step()\n",
    "        \n",
    "        g_optimizer.zero_grad()\n",
    "        \n",
    "        z = np.random.uniform(-1, 1, size=(batch_size, z_size))\n",
    "        z = torch.from_numpy(z).float()\n",
    "        z = z.to(device)\n",
    "        fake_images = G(z, ages)\n",
    "        \n",
    "        D_fake = D(fake_images, ages)\n",
    "        g_loss = real_loss(D_fake)\n",
    "        \n",
    "        g_loss.backward()\n",
    "        g_optimizer.step()\n",
    "\n",
    "        if batch_i % print_every == 0:\n",
    "            losses.append((d_loss.item(), g_loss.item()))\n",
    "            print('Epoch [{:5d}/{:5d}] | d_loss: {:6.4f} | g_loss: {:6.4f}'.format(\n",
    "                    epoch+1, num_epochs, d_loss.item(), g_loss.item()))\n",
    "\n",
    "    G.eval() \n",
    "    fixed_z = fixed_z.to(device)\n",
    "    fixed_y = fixed_y.to(device)\n",
    "    samples_z = G(fixed_z, fixed_y)\n",
    "    samples.append(samples_z.detach().cpu().numpy())\n",
    "    G.train() \n",
    "    \n",
    "    # Save the model and optimizer state dicts\n",
    "    checkpoint(G, D, epoch, model, root_dir)\n",
    "\n",
    "# Save the samples and losses arrays\n",
    "samples_file = os.path.join(root_dir, f'{model}_samples.pkl')\n",
    "losses_file = os.path.join(root_dir, f'{model}_losses.pkl')\n",
    "with open(samples_file, 'wb') as f:\n",
    "    pkl.dump(samples, f)\n",
    "with open(losses_file, 'wb') as f:\n",
    "    pkl.dump(losses, f)\n",
    "\n",
    "# Save the final model and optimizer state dicts\n",
    "checkpoint(G, D, num_epochs, model, root_dir)\n",
    "\n",
    "# Save the final samples array\n",
    "save_samples_ages(samples, fixed_y, model, root_dir)\n"
   ]
  },
  {
   "cell_type": "code",
   "execution_count": 36,
   "metadata": {},
   "outputs": [],
   "source": [
    "# # Initialize the generator and discriminator\n",
    "# z_dim = 100\n",
    "# y_dim = 10\n",
    "# image_size = 64\n",
    "# num_channels = 3\n",
    "\n",
    "# generator = Generator(z_dim, y_dim, image_size, num_channels)\n",
    "# discriminator = Discriminator(image_size, y_dim, num_channels)\n",
    "\n",
    "# # Define loss functions and optimizers\n",
    "# criterion = nn.BCELoss()  # Binary Cross-Entropy Loss\n",
    "# g_optimizer = torch.optim.Adam(generator.parameters(), lr=0.0002, betas=(0.5, 0.999))\n",
    "# d_optimizer = torch.optim.Adam(discriminator.parameters(), lr=0.0002, betas=(0.5, 0.999))\n",
    "\n",
    "# # Training loop (simplified)\n",
    "# num_epochs = 100\n",
    "# for epoch in range(num_epochs):\n",
    "#     for real_images, condition in dataloader:  # Replace with your data loader\n",
    "#         # Train Discriminator\n",
    "#         real_labels = torch.ones(batch_size, 1)\n",
    "#         fake_labels = torch.zeros(batch_size, 1)\n",
    "\n",
    "#         # Generate fake images\n",
    "#         z = torch.randn(batch_size, z_dim)\n",
    "#         fake_images = generator(z, condition)\n",
    "\n",
    "#         # Discriminator forward pass for real and fake images\n",
    "#         real_outputs = discriminator(real_images, condition)\n",
    "#         fake_outputs = discriminator(fake_images.detach(), condition)\n",
    "\n",
    "#         # Calculate discriminator loss\n",
    "#         d_loss_real = criterion(real_outputs, real_labels)\n",
    "#         d_loss_fake = criterion(fake_outputs, fake_labels)\n",
    "#         d_loss = d_loss_real + d_loss_fake\n",
    "\n",
    "#         # Update discriminator\n",
    "#         d_optimizer.zero_grad()\n",
    "#         d_loss.backward()\n",
    "#         d_optimizer.step()\n",
    "\n",
    "#         # Train Generator\n",
    "#         # Generate fake images again\n",
    "#         z = torch.randn(batch_size, z_dim)\n",
    "#         fake_images = generator(z, condition)\n",
    "\n",
    "#         # Discriminator forward pass for fake images (again)\n",
    "#         fake_outputs = discriminator(fake_images, condition)\n",
    "\n",
    "#         # Calculate generator loss\n",
    "#         g_loss = criterion(fake_outputs, real_labels)\n",
    "\n",
    "#         # Update generator\n",
    "#         g_optimizer.zero_grad()\n",
    "#         g_loss.backward()\n",
    "#         g_optimizer.step()"
   ]
  },
  {
   "cell_type": "code",
   "execution_count": 39,
   "metadata": {},
   "outputs": [
    {
     "name": "stdout",
     "output_type": "stream",
     "text": [
      "Average Discriminator Loss: 0.2429\n",
      "Average Generator Loss: 5.6173\n"
     ]
    }
   ],
   "source": [
    "#Generating losses\n",
    "import numpy as np\n",
    "\n",
    "losses = np.array(losses)\n",
    "d_losses = losses.T[0]\n",
    "g_losses = losses.T[1]\n",
    "avg_d_loss = np.mean(d_losses)\n",
    "avg_g_loss = np.mean(g_losses)\n",
    "print('Average Discriminator Loss: {:.4f}'.format(avg_d_loss))\n",
    "print('Average Generator Loss: {:.4f}'.format(avg_g_loss))\n"
   ]
  },
  {
   "cell_type": "code",
   "execution_count": 38,
   "metadata": {},
   "outputs": [],
   "source": [
    "torch.save(G.state_dict(), os.path.join(root_dir, model+'9_G.pth'))\n",
    "torch.save(D.state_dict(), os.path.join(root_dir, model+'9_D.pth'))"
   ]
  },
  {
   "cell_type": "code",
   "execution_count": null,
   "metadata": {},
   "outputs": [],
   "source": []
  }
 ],
 "metadata": {
  "accelerator": "GPU",
  "colab": {
   "provenance": []
  },
  "kernelspec": {
   "display_name": "Python 3 (ipykernel)",
   "language": "python",
   "name": "python3"
  },
  "language_info": {
   "codemirror_mode": {
    "name": "ipython",
    "version": 3
   },
   "file_extension": ".py",
   "mimetype": "text/x-python",
   "name": "python",
   "nbconvert_exporter": "python",
   "pygments_lexer": "ipython3",
   "version": "3.8.10"
  }
 },
 "nbformat": 4,
 "nbformat_minor": 1
}
